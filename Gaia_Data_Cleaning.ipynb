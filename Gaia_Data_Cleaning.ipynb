{
  "cells": [
    {
      "cell_type": "markdown",
      "metadata": {
        "id": "view-in-github",
        "colab_type": "text"
      },
      "source": [
        "<a href=\"https://colab.research.google.com/github/Ohnoimded/gaia-object-classification/blob/main/Gaia_Data_Cleaning.ipynb\" target=\"_parent\"><img src=\"https://colab.research.google.com/assets/colab-badge.svg\" alt=\"Open In Colab\"/></a>"
      ]
    },
    {
      "cell_type": "code",
      "execution_count": null,
      "metadata": {
        "id": "FfTZJi7BImZg"
      },
      "outputs": [],
      "source": [
        "import requests\n",
        "\n",
        "url = \"http://cdsxmatch.u-strasbg.fr/xmatch/uws/xmatch?sessionId=85FC152E9A0023B807E77F59A9D90A45&command=getResult&jobId=1681024617589A&resultFormat=csv\"\n",
        "filename = \"data.csv\"\n",
        "\n",
        "with requests.get(url, stream=True) as r:\n",
        "    r.raise_for_status()\n",
        "    with open(filename, \"wb\") as f:\n",
        "        for chunk in r.iter_content(chunk_size=8192):\n",
        "            f.write(chunk)\n",
        "\n",
        "print(f\"File downloaded successfully as {filename}\")\n"
      ]
    },
    {
      "cell_type": "code",
      "execution_count": null,
      "metadata": {
        "id": "-mwClu9JLWow"
      },
      "outputs": [],
      "source": [
        "import dask.dataframe as dd\n",
        "from dask.delayed import delayed\n",
        "df=dd.read_csv('data.csv',blocksize=64000000, assume_missing=True,sample=100000)"
      ]
    },
    {
      "cell_type": "code",
      "source": [
        "cols = ['Plx', 'RPlx', 'PM', 'pmDE', 'RADEcor', 'RAPlxcor', 'RApmRAcor', 'RApmDEcor', \n",
        "        'DEPlxcor', 'DEpmRAcor', 'DEpmDEcor', 'PlxpmRAcor', 'PlxpmDEcor', 'pmRApmDEcor', \n",
        "        'epsi', 'sepsi', 'nueff', 'amax', 'MatchObs', 'IPDgofha', 'IPDfow', 'RUWE', \n",
        "        'o_Gmag', 'FG', 'RFG', 'Gmag', 'o_BPmag', 'FBP', 'RFBP', 'BPmag', 'o_RPmag', \n",
        "        'FRP', 'RFRP', 'RPmag', 'E(BP/RP)', 'NBPcont', 'NBPblend', 'NRPcont', 'NRPblend', \n",
        "        'BP-RP', 'BP-G', 'G-RP']\n",
        "\n",
        "# Define the cleaning function\n",
        "@delayed\n",
        "def clean_column(col):\n",
        "    return col[(np.abs(stats.zscore(col)) < 5)]\n",
        "\n",
        "# Loop through the columns and apply the cleaning function using Dask delayed\n",
        "for col in cols:\n",
        "    df[col] = df[col].map(clean_column, meta=('clean', 'f8'))\n",
        "\n",
        "# Compute the cleaned DataFrame\n",
        "ddf_clean = df.compute()"
      ],
      "metadata": {
        "id": "-4NZppQNejhM"
      },
      "execution_count": null,
      "outputs": []
    }
  ],
  "metadata": {
    "accelerator": "GPU",
    "colab": {
      "provenance": [],
      "authorship_tag": "ABX9TyOXw2Qg+0MiD2ZISUP2rZAu",
      "include_colab_link": true
    },
    "gpuClass": "standard",
    "kernelspec": {
      "display_name": "Python 3",
      "name": "python3"
    },
    "language_info": {
      "name": "python"
    }
  },
  "nbformat": 4,
  "nbformat_minor": 0
}